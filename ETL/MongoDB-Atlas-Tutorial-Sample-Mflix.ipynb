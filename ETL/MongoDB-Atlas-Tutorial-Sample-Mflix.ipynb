{
 "cells": [
  {
   "cell_type": "markdown",
   "id": "2fd39544-81cb-494e-b039-5e0edac53381",
   "metadata": {},
   "source": [
    "# MongoDB Atlas Tutorial - Sample Mflix"
   ]
  },
  {
   "cell_type": "code",
   "execution_count": 1,
   "id": "fd6d145b-7626-49b6-a5f2-32e8ae78300b",
   "metadata": {},
   "outputs": [],
   "source": [
    "from pymongo.mongo_client import MongoClient\n",
    "from pymongo.operations import SearchIndexModel\n",
    "import time"
   ]
  },
  {
   "cell_type": "code",
   "execution_count": 3,
   "id": "416b15fd-7df9-445f-a485-a2936cfa4065",
   "metadata": {},
   "outputs": [],
   "source": [
    "#TODO: Sensitive Data, Replace password\n",
    "CONNECTION_STRING = \"mongodb+srv://aiinaction:<password>@starteconcluster1.cg9gxnb.mongodb.net/?retryWrites=true&w=majority&appName=StarteconCluster1\""
   ]
  },
  {
   "cell_type": "code",
   "execution_count": 5,
   "id": "a1b78d6c-1245-4450-a128-1f97ca7f3211",
   "metadata": {},
   "outputs": [],
   "source": [
    "# Connect to your Atlas deployment\n",
    "client = MongoClient(CONNECTION_STRING)"
   ]
  },
  {
   "cell_type": "code",
   "execution_count": 7,
   "id": "c20c643a-4f9c-4cf9-8f46-0fd6270e9d29",
   "metadata": {},
   "outputs": [],
   "source": [
    "# Access your database and collection\n",
    "database = client[\"sample_mflix\"]\n",
    "collection = database[\"embedded_movies\"]"
   ]
  },
  {
   "cell_type": "code",
   "execution_count": 9,
   "id": "f26092fc-791b-4dc3-8009-34871e51858d",
   "metadata": {},
   "outputs": [
    {
     "name": "stdout",
     "output_type": "stream",
     "text": [
      "New search index named vector_index is building.\n"
     ]
    }
   ],
   "source": [
    "# Create your index model, then create the search index\n",
    "search_index_model = SearchIndexModel(\n",
    "  definition={\n",
    "    \"fields\": [\n",
    "      {\n",
    "        \"type\": \"vector\",\n",
    "        \"path\": \"plot_embedding\",\n",
    "        \"numDimensions\": 1536,\n",
    "        \"similarity\": \"dotProduct\",\n",
    "        \"quantization\": \"scalar\"\n",
    "      }\n",
    "    ]\n",
    "  },\n",
    "  name=\"vector_index\",\n",
    "  type=\"vectorSearch\"\n",
    ")\n",
    "result = collection.create_search_index(model=search_index_model)\n",
    "print(\"New search index named \" + result + \" is building.\")"
   ]
  },
  {
   "cell_type": "code",
   "execution_count": 11,
   "id": "cd0f241f-ff4d-49b1-a5a5-31c1169e1782",
   "metadata": {},
   "outputs": [
    {
     "name": "stdout",
     "output_type": "stream",
     "text": [
      "Polling to check if the index is ready. This may take up to a minute.\n"
     ]
    }
   ],
   "source": [
    "# Wait for initial sync to complete\n",
    "print(\"Polling to check if the index is ready. This may take up to a minute.\")\n",
    "predicate=None\n",
    "if predicate is None:\n",
    "    predicate = lambda index: index.get(\"queryable\") is True\n",
    "    \n",
    "while True:\n",
    "    indices = list(collection.list_search_indexes(result))\n",
    "    if len(indices) and predicate(indices[0]):\n",
    "        break\n",
    "        \n",
    "    time.sleep(5)"
   ]
  },
  {
   "cell_type": "code",
   "execution_count": 13,
   "id": "c0495494-61f4-4ddb-abc4-335a197ac2a8",
   "metadata": {},
   "outputs": [
    {
     "name": "stdout",
     "output_type": "stream",
     "text": [
      "vector_index is ready for querying.\n"
     ]
    }
   ],
   "source": [
    "print(result + \" is ready for querying.\")\n",
    "client.close()"
   ]
  },
  {
   "cell_type": "code",
   "execution_count": null,
   "id": "6abe6310-6947-4add-8fd4-60b2cc25b44c",
   "metadata": {},
   "outputs": [],
   "source": []
  }
 ],
 "metadata": {
  "kernelspec": {
   "display_name": "Python (webetl)",
   "language": "python",
   "name": "webetl"
  },
  "language_info": {
   "codemirror_mode": {
    "name": "ipython",
    "version": 3
   },
   "file_extension": ".py",
   "mimetype": "text/x-python",
   "name": "python",
   "nbconvert_exporter": "python",
   "pygments_lexer": "ipython3",
   "version": "3.12.9"
  }
 },
 "nbformat": 4,
 "nbformat_minor": 5
}
