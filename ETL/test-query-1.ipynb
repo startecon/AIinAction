{
 "cells": [
  {
   "cell_type": "markdown",
   "id": "bf91e4ca-cc04-4e4d-adc5-230b757b0013",
   "metadata": {},
   "source": [
    "# Data Ingestion to MongoDB"
   ]
  },
  {
   "cell_type": "code",
   "execution_count": 2,
   "id": "c34055a9-a5f7-4e9b-b0ae-281b53f3f175",
   "metadata": {},
   "outputs": [],
   "source": [
    "from pymongo import MongoClient\n",
    "import math\n",
    "import time"
   ]
  },
  {
   "cell_type": "markdown",
   "id": "9f4a0358-d061-4941-b1a2-1af890ccc30e",
   "metadata": {},
   "source": [
    "## Test Vector Search"
   ]
  },
  {
   "cell_type": "code",
   "execution_count": 4,
   "id": "a00721f4-196f-4ebe-861f-96c260d98b12",
   "metadata": {},
   "outputs": [],
   "source": [
    "#TODO: Sensitive Data, Replace password\n",
    "CONNECTION_STRING = \"mongodb+srv://aiinaction:<password>@starteconcluster1.cg9gxnb.mongodb.net/?retryWrites=true&w=majority&appName=StarteconCluster1\""
   ]
  },
  {
   "cell_type": "code",
   "execution_count": 5,
   "id": "2413a242-7301-4733-8d62-75dc2f2db597",
   "metadata": {},
   "outputs": [],
   "source": [
    "client = MongoClient(CONNECTION_STRING)"
   ]
  },
  {
   "cell_type": "markdown",
   "id": "4cbcb2c1-2548-4953-bc7b-044b99b0c125",
   "metadata": {},
   "source": [
    "### Get Collection"
   ]
  },
  {
   "cell_type": "code",
   "execution_count": 7,
   "id": "c3dc0712-468e-4e7a-b4f2-502550bb26f8",
   "metadata": {},
   "outputs": [
    {
     "data": {
      "text/plain": [
       "['EcoWind', 'sample_mflix', 'sample_restaurants', 'admin', 'local']"
      ]
     },
     "execution_count": 7,
     "metadata": {},
     "output_type": "execute_result"
    }
   ],
   "source": [
    "databases = client.list_database_names()\n",
    "databases"
   ]
  },
  {
   "cell_type": "code",
   "execution_count": 8,
   "id": "e3dbb2c1-099f-483b-92dc-d314a8553f3a",
   "metadata": {},
   "outputs": [],
   "source": [
    "db = client[databases[0]]"
   ]
  },
  {
   "cell_type": "code",
   "execution_count": 9,
   "id": "4dccdf70-5117-4665-9d18-4c3fdc39bb01",
   "metadata": {},
   "outputs": [
    {
     "data": {
      "text/plain": [
       "['wind_power_generation_data_05042017_competition',\n",
       " 'wind_power_generation_data_04042017_competition',\n",
       " 'meteorological_data_04042017_competition',\n",
       " 'wind_power_generation_data_07042017_competition',\n",
       " 'wind_power_generation_data_15042017_competition',\n",
       " 'wind_power_generation_data_10042017_competition',\n",
       " 'meteorological_data_10042017_competition',\n",
       " 'meteorological_data_14042017_competition',\n",
       " 'meteorological_data_12042017_competition',\n",
       " 'wind_power_generation_data_08042017_competition',\n",
       " 'wind_power_generation_data_06042017_competition',\n",
       " 'meteorological_data_09042017_competition',\n",
       " 'wind_power_generation_data_03042017_competition',\n",
       " 'measurements',\n",
       " 'observations_wind_power_vectors',\n",
       " 'meteorological_data_13042017_competition',\n",
       " 'meteorological_data',\n",
       " 'meteorological_data_15042017_competition',\n",
       " 'wind_power_generation_data_13042017_competition',\n",
       " 'meteorological_data_16042017_competition',\n",
       " 'meteorological_data_07042017_competition',\n",
       " 'wind_power_generation_data_11042017_competition',\n",
       " 'wind_power_generation_data_09042017_competition',\n",
       " 'meteorological_data_08042017_competition',\n",
       " 'wind_power_generation_data_16042017_competition',\n",
       " 'observations_wind_power_vectors_3',\n",
       " 'wind_power_generation_data_14042017_competition',\n",
       " 'meteorological_data_03042017_competition',\n",
       " 'meteorological_data_06042017_competition',\n",
       " 'meteorological_data_11042017_competition',\n",
       " 'wind_power_generation_data',\n",
       " 'wind_power_generation_data_12042017_competition']"
      ]
     },
     "execution_count": 9,
     "metadata": {},
     "output_type": "execute_result"
    }
   ],
   "source": [
    "db.list_collection_names()"
   ]
  },
  {
   "cell_type": "code",
   "execution_count": 10,
   "id": "10c65860-9482-4f64-a11f-cf7b51663cab",
   "metadata": {},
   "outputs": [],
   "source": [
    "coll = db[\"observations_wind_power_vectors\"]"
   ]
  },
  {
   "cell_type": "markdown",
   "id": "cfd7da4b-3251-4dfb-adb8-cccd61969d3a",
   "metadata": {},
   "source": [
    "### Get Query Vector"
   ]
  },
  {
   "cell_type": "code",
   "execution_count": 41,
   "id": "be1c994c-694a-4643-9a83-5505731bfbb9",
   "metadata": {},
   "outputs": [],
   "source": [
    "# First item is at day 2 at 00:00 o'clock\n",
    "# We could also use id = 1\n",
    "query_item = coll.find_one({\"date\": \"002:00:00\"})"
   ]
  },
  {
   "cell_type": "code",
   "execution_count": 13,
   "id": "68e2f0ea-9e24-4980-afb1-9a60493b5c74",
   "metadata": {},
   "outputs": [
    {
     "data": {
      "text/plain": [
       "dict"
      ]
     },
     "execution_count": 13,
     "metadata": {},
     "output_type": "execute_result"
    }
   ],
   "source": [
    "type(query_item)"
   ]
  },
  {
   "cell_type": "code",
   "execution_count": 14,
   "id": "0fec9598-9190-4881-8298-f110bc4bff24",
   "metadata": {},
   "outputs": [],
   "source": [
    "vector = query_item[\"vectors\"]"
   ]
  },
  {
   "cell_type": "code",
   "execution_count": 15,
   "id": "26c2522a-fd77-4afc-bf72-c28d2c4ad70c",
   "metadata": {},
   "outputs": [
    {
     "data": {
      "text/plain": [
       "float"
      ]
     },
     "execution_count": 15,
     "metadata": {},
     "output_type": "execute_result"
    }
   ],
   "source": [
    "type(vector[0])"
   ]
  },
  {
   "cell_type": "code",
   "execution_count": 16,
   "id": "a1148a39-261d-4c4f-abf4-85093481fdaa",
   "metadata": {},
   "outputs": [],
   "source": [
    "# define query pipeline\n",
    "pipeline = [\n",
    "  {\n",
    "    '$vectorSearch': {\n",
    "      'index': 'wind_power_vector_index', \n",
    "      'path': 'vectors', \n",
    "      'queryVector': vector, \n",
    "      'numCandidates': 100, \n",
    "      'limit': 10\n",
    "    }\n",
    "  }, {\n",
    "    '$project': {\n",
    "      '_id': 0, \n",
    "      'id': 1, \n",
    "      'date': 1, \n",
    "      'windpower': 1, \n",
    "      'score': {\n",
    "        '$meta': 'vectorSearchScore'\n",
    "      }\n",
    "    }\n",
    "  }\n",
    "]"
   ]
  },
  {
   "cell_type": "code",
   "execution_count": 97,
   "id": "1161a051-ee48-4422-942e-836817f21c1a",
   "metadata": {},
   "outputs": [],
   "source": [
    "# run the pipeline\n",
    "result = coll.aggregate(pipeline)"
   ]
  },
  {
   "cell_type": "code",
   "execution_count": 99,
   "id": "fbe799ea-7330-4090-9e42-3091862ab5af",
   "metadata": {},
   "outputs": [],
   "source": [
    "conf_high = []\n",
    "conf_low = []\n",
    "best = []\n",
    "\n",
    "idx = 0\n",
    "for i in result:\n",
    "    if (i[\"id\"] == query_item[\"id\"]):\n",
    "        continue\n",
    "    if (idx == 1):\n",
    "        best = i[\"windpower\"]\n",
    "        conf_high = i[\"windpower\"]\n",
    "        conf_low = i[\"windpower\"]\n",
    "        \n",
    "    conf_high = list(map(max, zip(i[\"windpower\"], conf_high)))\n",
    "    conf_low = list(map(min, zip(i[\"windpower\"], conf_low)))\n",
    "    idx = idx + 1"
   ]
  },
  {
   "cell_type": "code",
   "execution_count": 101,
   "id": "49e32653-fede-4979-b2e1-343b89a130ec",
   "metadata": {},
   "outputs": [
    {
     "name": "stdout",
     "output_type": "stream",
     "text": [
      "{\"x\":1, \"y\": 96.39}\n",
      "{\"x\":2, \"y\": 98.97}\n",
      "{\"x\":3, \"y\": 100.66}\n",
      "{\"x\":4, \"y\": 107.67}\n",
      "{\"x\":5, \"y\": 111.52}\n",
      "{\"x\":6, \"y\": 100.66}\n",
      "{\"x\":7, \"y\": 101.4}\n",
      "{\"x\":8, \"y\": 92.91}\n",
      "{\"x\":9, \"y\": 97.49}\n",
      "{\"x\":10, \"y\": 93.07}\n",
      "{\"x\":11, \"y\": 96.39}\n",
      "{\"x\":12, \"y\": 90.43}\n",
      "{\"x\":13, \"y\": 88.27}\n",
      "{\"x\":14, \"y\": 92.17}\n",
      "{\"x\":15, \"y\": 98.97}\n",
      "{\"x\":16, \"y\": 102.14}\n",
      "{\"x\":17, \"y\": 108.93}\n",
      "{\"x\":18, \"y\": 113.21}\n",
      "{\"x\":19, \"y\": 105.98}\n",
      "{\"x\":20, \"y\": 101.92}\n",
      "{\"x\":21, \"y\": 101.08}\n",
      "{\"x\":22, \"y\": 93.43}\n",
      "{\"x\":23, \"y\": 89.01}\n",
      "{\"x\":24, \"y\": 90.33}\n",
      "{\"x\":25, \"y\": 94.91}\n",
      "{\"x\":26, \"y\": 86.27}\n",
      "{\"x\":27, \"y\": 83.32}\n",
      "{\"x\":28, \"y\": 81.21}\n",
      "{\"x\":29, \"y\": 91.48}\n",
      "{\"x\":30, \"y\": 89.7}\n",
      "{\"x\":31, \"y\": 91.07}\n",
      "{\"x\":32, \"y\": 101.55}\n",
      "{\"x\":33, \"y\": 104.87}\n",
      "{\"x\":34, \"y\": 110.3}\n",
      "{\"x\":35, \"y\": 107.41}\n",
      "{\"x\":36, \"y\": 109.52}\n",
      "{\"x\":37, \"y\": 111.47}\n",
      "{\"x\":38, \"y\": 114.84}\n",
      "{\"x\":39, \"y\": 112.1}\n",
      "{\"x\":40, \"y\": 122.22}\n",
      "{\"x\":41, \"y\": 131.07}\n",
      "{\"x\":42, \"y\": 130.23}\n",
      "{\"x\":43, \"y\": 122.22}\n",
      "{\"x\":44, \"y\": 129.44}\n",
      "{\"x\":45, \"y\": 128.38}\n",
      "{\"x\":46, \"y\": 125.12}\n",
      "{\"x\":47, \"y\": 134.24}\n",
      "{\"x\":48, \"y\": 139.19}\n"
     ]
    }
   ],
   "source": [
    "x = 1\n",
    "for y in best:\n",
    "    print('{\"x\":%s, \"y\": %s}' % (x, y))\n",
    "    x = x + 1"
   ]
  },
  {
   "cell_type": "code",
   "execution_count": 103,
   "id": "d1978a22-387d-4bf5-8401-23485d063437",
   "metadata": {},
   "outputs": [
    {
     "name": "stdout",
     "output_type": "stream",
     "text": [
      "{\"x\":1, \"y\": 201.92}\n",
      "{\"x\":2, \"y\": 200.77}\n",
      "{\"x\":3, \"y\": 198.55}\n",
      "{\"x\":4, \"y\": 199.66}\n",
      "{\"x\":5, \"y\": 197.71}\n",
      "{\"x\":6, \"y\": 202.18}\n",
      "{\"x\":7, \"y\": 201.18}\n",
      "{\"x\":8, \"y\": 199.34}\n",
      "{\"x\":9, \"y\": 199.34}\n",
      "{\"x\":10, \"y\": 199.71}\n",
      "{\"x\":11, \"y\": 200.44}\n",
      "{\"x\":12, \"y\": 199.6}\n",
      "{\"x\":13, \"y\": 203.24}\n",
      "{\"x\":14, \"y\": 213.73}\n",
      "{\"x\":15, \"y\": 227.27}\n",
      "{\"x\":16, \"y\": 220.32}\n",
      "{\"x\":17, \"y\": 210.99}\n",
      "{\"x\":18, \"y\": 217.79}\n",
      "{\"x\":19, \"y\": 202.66}\n",
      "{\"x\":20, \"y\": 210.67}\n",
      "{\"x\":21, \"y\": 209.67}\n",
      "{\"x\":22, \"y\": 207.09}\n",
      "{\"x\":23, \"y\": 206.72}\n",
      "{\"x\":24, \"y\": 203.72}\n",
      "{\"x\":25, \"y\": 203.72}\n",
      "{\"x\":26, \"y\": 201.4}\n",
      "{\"x\":27, \"y\": 203.77}\n",
      "{\"x\":28, \"y\": 203.77}\n",
      "{\"x\":29, \"y\": 204.87}\n",
      "{\"x\":30, \"y\": 203.98}\n",
      "{\"x\":31, \"y\": 204.5}\n",
      "{\"x\":32, \"y\": 203.66}\n",
      "{\"x\":33, \"y\": 201.08}\n",
      "{\"x\":34, \"y\": 203.03}\n",
      "{\"x\":35, \"y\": 204.03}\n",
      "{\"x\":36, \"y\": 203.29}\n",
      "{\"x\":37, \"y\": 203.24}\n",
      "{\"x\":38, \"y\": 213.73}\n",
      "{\"x\":39, \"y\": 227.27}\n",
      "{\"x\":40, \"y\": 220.32}\n",
      "{\"x\":41, \"y\": 210.99}\n",
      "{\"x\":42, \"y\": 217.79}\n",
      "{\"x\":43, \"y\": 202.5}\n",
      "{\"x\":44, \"y\": 210.67}\n",
      "{\"x\":45, \"y\": 209.67}\n",
      "{\"x\":46, \"y\": 204.4}\n",
      "{\"x\":47, \"y\": 206.72}\n",
      "{\"x\":48, \"y\": 201.03}\n"
     ]
    }
   ],
   "source": [
    "x = 1\n",
    "for y in conf_high:\n",
    "    print('{\"x\":%s, \"y\": %s}' % (x, y))\n",
    "    x = x + 1"
   ]
  },
  {
   "cell_type": "code",
   "execution_count": 105,
   "id": "29bbe0fd-140a-41a2-94c1-b623e9dfe9e9",
   "metadata": {},
   "outputs": [
    {
     "name": "stdout",
     "output_type": "stream",
     "text": [
      "{\"x\":1, \"y\": 38.77}\n",
      "{\"x\":2, \"y\": 44.62}\n",
      "{\"x\":3, \"y\": 44.57}\n",
      "{\"x\":4, \"y\": 42.73}\n",
      "{\"x\":5, \"y\": 42.73}\n",
      "{\"x\":6, \"y\": 40.51}\n",
      "{\"x\":7, \"y\": 38.67}\n",
      "{\"x\":8, \"y\": 38.72}\n",
      "{\"x\":9, \"y\": 28.44}\n",
      "{\"x\":10, \"y\": 26.12}\n",
      "{\"x\":11, \"y\": 26.65}\n",
      "{\"x\":12, \"y\": 24.8}\n",
      "{\"x\":13, \"y\": 18.48}\n",
      "{\"x\":14, \"y\": 13.68}\n",
      "{\"x\":15, \"y\": 12.99}\n",
      "{\"x\":16, \"y\": 15.47}\n",
      "{\"x\":17, \"y\": 16.31}\n",
      "{\"x\":18, \"y\": 20.0}\n",
      "{\"x\":19, \"y\": 21.74}\n",
      "{\"x\":20, \"y\": 21.48}\n",
      "{\"x\":21, \"y\": 23.59}\n",
      "{\"x\":22, \"y\": 23.54}\n",
      "{\"x\":23, \"y\": 25.17}\n",
      "{\"x\":24, \"y\": 26.91}\n",
      "{\"x\":25, \"y\": 24.38}\n",
      "{\"x\":26, \"y\": 25.01}\n",
      "{\"x\":27, \"y\": 28.81}\n",
      "{\"x\":28, \"y\": 24.75}\n",
      "{\"x\":29, \"y\": 23.69}\n",
      "{\"x\":30, \"y\": 20.96}\n",
      "{\"x\":31, \"y\": 22.11}\n",
      "{\"x\":32, \"y\": 17.27}\n",
      "{\"x\":33, \"y\": 14.68}\n",
      "{\"x\":34, \"y\": 13.31}\n",
      "{\"x\":35, \"y\": 16.16}\n",
      "{\"x\":36, \"y\": 11.47}\n",
      "{\"x\":37, \"y\": 11.73}\n",
      "{\"x\":38, \"y\": 11.15}\n",
      "{\"x\":39, \"y\": 9.52}\n",
      "{\"x\":40, \"y\": 7.41}\n",
      "{\"x\":41, \"y\": 4.03}\n",
      "{\"x\":42, \"y\": 3.03}\n",
      "{\"x\":43, \"y\": 1.03}\n",
      "{\"x\":44, \"y\": 2.87}\n",
      "{\"x\":45, \"y\": 1.87}\n",
      "{\"x\":46, \"y\": 2.87}\n",
      "{\"x\":47, \"y\": 1.87}\n",
      "{\"x\":48, \"y\": 5.24}\n"
     ]
    }
   ],
   "source": [
    "x = 1\n",
    "for y in conf_low:\n",
    "    print('{\"x\":%s, \"y\": %s}' % (x, y))\n",
    "    x = x + 1"
   ]
  },
  {
   "cell_type": "code",
   "execution_count": null,
   "id": "6020cdf3-10c6-4814-a836-c08c10ce0dbb",
   "metadata": {},
   "outputs": [],
   "source": [
    "#TODO: Convert High and Low to confidence interval"
   ]
  }
 ],
 "metadata": {
  "kernelspec": {
   "display_name": "Python (webetl)",
   "language": "python",
   "name": "webetl"
  },
  "language_info": {
   "codemirror_mode": {
    "name": "ipython",
    "version": 3
   },
   "file_extension": ".py",
   "mimetype": "text/x-python",
   "name": "python",
   "nbconvert_exporter": "python",
   "pygments_lexer": "ipython3",
   "version": "3.12.9"
  }
 },
 "nbformat": 4,
 "nbformat_minor": 5
}
