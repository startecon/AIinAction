{
 "cells": [
  {
   "cell_type": "markdown",
   "id": "bf91e4ca-cc04-4e4d-adc5-230b757b0013",
   "metadata": {},
   "source": [
    "# Data Ingestion to MongoDB"
   ]
  },
  {
   "cell_type": "code",
   "execution_count": 2,
   "id": "c34055a9-a5f7-4e9b-b0ae-281b53f3f175",
   "metadata": {},
   "outputs": [],
   "source": [
    "from pymongo import MongoClient\n",
    "from pymongo.operations import SearchIndexModel\n",
    "import pandas as pd\n",
    "import math\n",
    "import time"
   ]
  },
  {
   "cell_type": "markdown",
   "id": "9f4a0358-d061-4941-b1a2-1af890ccc30e",
   "metadata": {},
   "source": [
    "## Load Observations and Wind Power Data"
   ]
  },
  {
   "cell_type": "code",
   "execution_count": 4,
   "id": "eff09e5f-7bf3-4c04-98ba-dd7d6c83190f",
   "metadata": {},
   "outputs": [],
   "source": [
    "obs = pd.read_csv(\"./data/meteorological_data.csv\", encoding = \"ISO-8859-1\")"
   ]
  },
  {
   "cell_type": "code",
   "execution_count": 5,
   "id": "0fd37a97-315c-4351-bd64-699c16693794",
   "metadata": {},
   "outputs": [],
   "source": [
    "wp = pd.read_csv(\"./data/wind_power_generation_data.csv\", encoding = \"ISO-8859-1\")"
   ]
  },
  {
   "cell_type": "code",
   "execution_count": 6,
   "id": "d1978a22-387d-4bf5-8401-23485d063437",
   "metadata": {},
   "outputs": [
    {
     "data": {
      "text/html": [
       "<div>\n",
       "<style scoped>\n",
       "    .dataframe tbody tr th:only-of-type {\n",
       "        vertical-align: middle;\n",
       "    }\n",
       "\n",
       "    .dataframe tbody tr th {\n",
       "        vertical-align: top;\n",
       "    }\n",
       "\n",
       "    .dataframe thead th {\n",
       "        text-align: right;\n",
       "    }\n",
       "</style>\n",
       "<table border=\"1\" class=\"dataframe\">\n",
       "  <thead>\n",
       "    <tr style=\"text-align: right;\">\n",
       "      <th></th>\n",
       "      <th>day</th>\n",
       "      <th>start time 3h interval (utc)</th>\n",
       "      <th>location</th>\n",
       "      <th>height above ground in m</th>\n",
       "      <th>u-component wind in m/s</th>\n",
       "      <th>v-component wind in m/s</th>\n",
       "      <th>temperature in °C</th>\n",
       "      <th>global surface radiation in W/m2</th>\n",
       "    </tr>\n",
       "  </thead>\n",
       "  <tbody>\n",
       "    <tr>\n",
       "      <th>0</th>\n",
       "      <td>1</td>\n",
       "      <td>00:00</td>\n",
       "      <td>1</td>\n",
       "      <td>2</td>\n",
       "      <td>5.00</td>\n",
       "      <td>-0.30</td>\n",
       "      <td>1.65</td>\n",
       "      <td>0.0</td>\n",
       "    </tr>\n",
       "    <tr>\n",
       "      <th>1</th>\n",
       "      <td>1</td>\n",
       "      <td>03:00</td>\n",
       "      <td>1</td>\n",
       "      <td>2</td>\n",
       "      <td>8.22</td>\n",
       "      <td>-1.20</td>\n",
       "      <td>1.45</td>\n",
       "      <td>2.0</td>\n",
       "    </tr>\n",
       "    <tr>\n",
       "      <th>2</th>\n",
       "      <td>1</td>\n",
       "      <td>06:00</td>\n",
       "      <td>1</td>\n",
       "      <td>2</td>\n",
       "      <td>5.36</td>\n",
       "      <td>-2.91</td>\n",
       "      <td>0.65</td>\n",
       "      <td>170.0</td>\n",
       "    </tr>\n",
       "    <tr>\n",
       "      <th>3</th>\n",
       "      <td>1</td>\n",
       "      <td>09:00</td>\n",
       "      <td>1</td>\n",
       "      <td>2</td>\n",
       "      <td>6.94</td>\n",
       "      <td>-3.17</td>\n",
       "      <td>1.55</td>\n",
       "      <td>350.0</td>\n",
       "    </tr>\n",
       "    <tr>\n",
       "      <th>4</th>\n",
       "      <td>1</td>\n",
       "      <td>12:00</td>\n",
       "      <td>1</td>\n",
       "      <td>2</td>\n",
       "      <td>6.58</td>\n",
       "      <td>-2.26</td>\n",
       "      <td>2.95</td>\n",
       "      <td>570.0</td>\n",
       "    </tr>\n",
       "    <tr>\n",
       "      <th>5</th>\n",
       "      <td>1</td>\n",
       "      <td>15:00</td>\n",
       "      <td>1</td>\n",
       "      <td>2</td>\n",
       "      <td>7.28</td>\n",
       "      <td>-1.95</td>\n",
       "      <td>2.85</td>\n",
       "      <td>368.0</td>\n",
       "    </tr>\n",
       "    <tr>\n",
       "      <th>6</th>\n",
       "      <td>1</td>\n",
       "      <td>18:00</td>\n",
       "      <td>1</td>\n",
       "      <td>2</td>\n",
       "      <td>2.70</td>\n",
       "      <td>0.12</td>\n",
       "      <td>-0.25</td>\n",
       "      <td>0.0</td>\n",
       "    </tr>\n",
       "    <tr>\n",
       "      <th>7</th>\n",
       "      <td>1</td>\n",
       "      <td>21:00</td>\n",
       "      <td>1</td>\n",
       "      <td>2</td>\n",
       "      <td>3.66</td>\n",
       "      <td>0.45</td>\n",
       "      <td>0.25</td>\n",
       "      <td>0.0</td>\n",
       "    </tr>\n",
       "    <tr>\n",
       "      <th>8</th>\n",
       "      <td>2</td>\n",
       "      <td>00:00</td>\n",
       "      <td>1</td>\n",
       "      <td>2</td>\n",
       "      <td>5.14</td>\n",
       "      <td>1.70</td>\n",
       "      <td>1.05</td>\n",
       "      <td>0.0</td>\n",
       "    </tr>\n",
       "    <tr>\n",
       "      <th>9</th>\n",
       "      <td>2</td>\n",
       "      <td>03:00</td>\n",
       "      <td>1</td>\n",
       "      <td>2</td>\n",
       "      <td>7.23</td>\n",
       "      <td>1.91</td>\n",
       "      <td>1.45</td>\n",
       "      <td>2.0</td>\n",
       "    </tr>\n",
       "  </tbody>\n",
       "</table>\n",
       "</div>"
      ],
      "text/plain": [
       "   day start time 3h interval (utc)  location  height above ground in m  \\\n",
       "0    1                        00:00         1                         2   \n",
       "1    1                        03:00         1                         2   \n",
       "2    1                        06:00         1                         2   \n",
       "3    1                        09:00         1                         2   \n",
       "4    1                        12:00         1                         2   \n",
       "5    1                        15:00         1                         2   \n",
       "6    1                        18:00         1                         2   \n",
       "7    1                        21:00         1                         2   \n",
       "8    2                        00:00         1                         2   \n",
       "9    2                        03:00         1                         2   \n",
       "\n",
       "   u-component wind in m/s  v-component wind in m/s  temperature in °C  \\\n",
       "0                     5.00                    -0.30               1.65   \n",
       "1                     8.22                    -1.20               1.45   \n",
       "2                     5.36                    -2.91               0.65   \n",
       "3                     6.94                    -3.17               1.55   \n",
       "4                     6.58                    -2.26               2.95   \n",
       "5                     7.28                    -1.95               2.85   \n",
       "6                     2.70                     0.12              -0.25   \n",
       "7                     3.66                     0.45               0.25   \n",
       "8                     5.14                     1.70               1.05   \n",
       "9                     7.23                     1.91               1.45   \n",
       "\n",
       "   global surface radiation in W/m2  \n",
       "0                               0.0  \n",
       "1                               2.0  \n",
       "2                             170.0  \n",
       "3                             350.0  \n",
       "4                             570.0  \n",
       "5                             368.0  \n",
       "6                               0.0  \n",
       "7                               0.0  \n",
       "8                               0.0  \n",
       "9                               2.0  "
      ]
     },
     "execution_count": 6,
     "metadata": {},
     "output_type": "execute_result"
    }
   ],
   "source": [
    "obs.head(10)"
   ]
  },
  {
   "cell_type": "code",
   "execution_count": 7,
   "id": "29bbe0fd-140a-41a2-94c1-b623e9dfe9e9",
   "metadata": {},
   "outputs": [
    {
     "data": {
      "text/plain": [
       "day                                   int64\n",
       "start time 3h interval (utc)         object\n",
       "location                              int64\n",
       "height above ground in m              int64\n",
       "u-component wind in m/s             float64\n",
       "v-component wind in m/s             float64\n",
       "temperature in °C                   float64\n",
       "global surface radiation in W/m2    float64\n",
       "dtype: object"
      ]
     },
     "execution_count": 7,
     "metadata": {},
     "output_type": "execute_result"
    }
   ],
   "source": [
    "obs.dtypes"
   ]
  },
  {
   "cell_type": "code",
   "execution_count": 8,
   "id": "c858af12-97ea-4370-bdd8-ac69a6c748ce",
   "metadata": {},
   "outputs": [
    {
     "data": {
      "text/html": [
       "<div>\n",
       "<style scoped>\n",
       "    .dataframe tbody tr th:only-of-type {\n",
       "        vertical-align: middle;\n",
       "    }\n",
       "\n",
       "    .dataframe tbody tr th {\n",
       "        vertical-align: top;\n",
       "    }\n",
       "\n",
       "    .dataframe thead th {\n",
       "        text-align: right;\n",
       "    }\n",
       "</style>\n",
       "<table border=\"1\" class=\"dataframe\">\n",
       "  <thead>\n",
       "    <tr style=\"text-align: right;\">\n",
       "      <th></th>\n",
       "      <th>day</th>\n",
       "      <th>start time quarter hour</th>\n",
       "      <th>wind generation in MW</th>\n",
       "    </tr>\n",
       "  </thead>\n",
       "  <tbody>\n",
       "    <tr>\n",
       "      <th>0</th>\n",
       "      <td>1</td>\n",
       "      <td>00:00</td>\n",
       "      <td>146.15</td>\n",
       "    </tr>\n",
       "    <tr>\n",
       "      <th>1</th>\n",
       "      <td>1</td>\n",
       "      <td>00:15</td>\n",
       "      <td>126.28</td>\n",
       "    </tr>\n",
       "    <tr>\n",
       "      <th>2</th>\n",
       "      <td>1</td>\n",
       "      <td>00:30</td>\n",
       "      <td>121.11</td>\n",
       "    </tr>\n",
       "    <tr>\n",
       "      <th>3</th>\n",
       "      <td>1</td>\n",
       "      <td>00:45</td>\n",
       "      <td>121.32</td>\n",
       "    </tr>\n",
       "    <tr>\n",
       "      <th>4</th>\n",
       "      <td>1</td>\n",
       "      <td>01:00</td>\n",
       "      <td>123.91</td>\n",
       "    </tr>\n",
       "  </tbody>\n",
       "</table>\n",
       "</div>"
      ],
      "text/plain": [
       "   day start time quarter hour  wind generation in MW\n",
       "0    1                   00:00                 146.15\n",
       "1    1                   00:15                 126.28\n",
       "2    1                   00:30                 121.11\n",
       "3    1                   00:45                 121.32\n",
       "4    1                   01:00                 123.91"
      ]
     },
     "execution_count": 8,
     "metadata": {},
     "output_type": "execute_result"
    }
   ],
   "source": [
    "wp.head()"
   ]
  },
  {
   "cell_type": "code",
   "execution_count": 9,
   "id": "d12b021d-fe8c-4744-b606-dcb92b857bc0",
   "metadata": {},
   "outputs": [
    {
     "data": {
      "text/plain": [
       "day                          int64\n",
       "start time quarter hour     object\n",
       "wind generation in MW      float64\n",
       "dtype: object"
      ]
     },
     "execution_count": 9,
     "metadata": {},
     "output_type": "execute_result"
    }
   ],
   "source": [
    "wp.dtypes"
   ]
  },
  {
   "cell_type": "markdown",
   "id": "934ad37c-a73a-415b-a7e8-5e36c09761d9",
   "metadata": {},
   "source": [
    "## Data Iteration\n",
    "\n",
    "* Let's iterate each time point in each measurement points and also historical points to day backward\n",
    "* Then we'll combine those information to one data row\n",
    "* And then we'll add total wind power time series to that row\n",
    "* Finally we'll take time point, wind power time series and calculate the vector to that data row and store it to dataframe"
   ]
  },
  {
   "cell_type": "code",
   "execution_count": 11,
   "id": "5f320d1e-ac00-4727-878f-21fc78c544eb",
   "metadata": {},
   "outputs": [],
   "source": [
    "#TODO: Sensitive Data, Replace password\n",
    "CONNECTION_STRING = \"mongodb+srv://aiinaction:<password>@starteconcluster1.cg9gxnb.mongodb.net/?retryWrites=true&w=majority&appName=StarteconCluster1\""
   ]
  },
  {
   "cell_type": "code",
   "execution_count": 12,
   "id": "3f90adaf-9705-451d-99b3-283839bf316b",
   "metadata": {},
   "outputs": [],
   "source": [
    "client = MongoClient(CONNECTION_STRING)"
   ]
  },
  {
   "cell_type": "code",
   "execution_count": 13,
   "id": "db2df84d-33ac-485c-bf0b-4e1ceeea8927",
   "metadata": {},
   "outputs": [
    {
     "data": {
      "text/plain": [
       "['EcoWind', 'sample_mflix', 'sample_restaurants', 'admin', 'local']"
      ]
     },
     "execution_count": 13,
     "metadata": {},
     "output_type": "execute_result"
    }
   ],
   "source": [
    "databases = client.list_database_names()\n",
    "databases"
   ]
  },
  {
   "cell_type": "code",
   "execution_count": 14,
   "id": "58bd4281-af0e-46d0-9aa0-3d289d5b549d",
   "metadata": {},
   "outputs": [],
   "source": [
    "db = client[databases[0]]"
   ]
  },
  {
   "cell_type": "code",
   "execution_count": 15,
   "id": "376ae288-b036-467c-83fb-ca7c1abf096e",
   "metadata": {},
   "outputs": [
    {
     "data": {
      "text/plain": [
       "['wind_power_generation_data_05042017_competition',\n",
       " 'wind_power_generation_data_04042017_competition',\n",
       " 'meteorological_data_04042017_competition',\n",
       " 'wind_power_generation_data_07042017_competition',\n",
       " 'wind_power_generation_data_15042017_competition',\n",
       " 'wind_power_generation_data_10042017_competition',\n",
       " 'meteorological_data_10042017_competition',\n",
       " 'meteorological_data_14042017_competition',\n",
       " 'meteorological_data_12042017_competition',\n",
       " 'wind_power_generation_data_08042017_competition',\n",
       " 'wind_power_generation_data_06042017_competition',\n",
       " 'meteorological_data_09042017_competition',\n",
       " 'wind_power_generation_data_03042017_competition',\n",
       " 'measurements',\n",
       " 'meteorological_data_13042017_competition',\n",
       " 'meteorological_data',\n",
       " 'meteorological_data_15042017_competition',\n",
       " 'wind_power_generation_data_13042017_competition',\n",
       " 'meteorological_data_16042017_competition',\n",
       " 'meteorological_data_07042017_competition',\n",
       " 'wind_power_generation_data_11042017_competition',\n",
       " 'wind_power_generation_data_09042017_competition',\n",
       " 'meteorological_data_08042017_competition',\n",
       " 'wind_power_generation_data_16042017_competition',\n",
       " 'observations_wind_power_vectors_3',\n",
       " 'wind_power_generation_data_14042017_competition',\n",
       " 'meteorological_data_03042017_competition',\n",
       " 'meteorological_data_06042017_competition',\n",
       " 'meteorological_data_11042017_competition',\n",
       " 'wind_power_generation_data',\n",
       " 'wind_power_generation_data_12042017_competition']"
      ]
     },
     "execution_count": 15,
     "metadata": {},
     "output_type": "execute_result"
    }
   ],
   "source": [
    "db.list_collection_names()"
   ]
  },
  {
   "cell_type": "code",
   "execution_count": 16,
   "id": "f17235a3-6014-4fd9-8042-9f21ab5d6021",
   "metadata": {},
   "outputs": [],
   "source": [
    "coll = db[\"observations_wind_power_vectors\"]"
   ]
  },
  {
   "cell_type": "code",
   "execution_count": 17,
   "id": "976a9c11-0f04-426f-8aef-91e5c1c14718",
   "metadata": {},
   "outputs": [],
   "source": [
    "def min_max_scale(x):\n",
    "    return (x - min(x)) / (max(x) - min(x)) * 2 - 1"
   ]
  },
  {
   "cell_type": "code",
   "execution_count": 18,
   "id": "cd523012-58eb-4909-944e-4feb6857841c",
   "metadata": {},
   "outputs": [],
   "source": [
    "def df_to_vector(df, d, t, tp):\n",
    "    df2 = df[\n",
    "                (df[\"start time 3h interval (utc)\"] == tp[t]) & \n",
    "                (df[\"day\"] == d)\n",
    "            ]\n",
    "    arr = []\n",
    "    arr.extend(min_max_scale(df2[\"u-component wind in m/s\"]).to_list())\n",
    "    arr.extend(min_max_scale(df2[\"v-component wind in m/s\"]).to_list())\n",
    "    arr.extend(min_max_scale(df2[\"temperature in °C\"]).to_list())\n",
    "    arr.extend(min_max_scale(df2[\"global surface radiation in W/m2\"]).to_list())\n",
    "\n",
    "    # Replace NaN or zero with epsilon\n",
    "    valid = [0.0000000000000001 if (math.isnan(x) or x == 0) else x for x in arr]    \n",
    "    return valid"
   ]
  },
  {
   "cell_type": "code",
   "execution_count": 19,
   "id": "2c72ad2b-250e-4165-83fe-48bf724830d7",
   "metadata": {},
   "outputs": [],
   "source": [
    "def get_history_point(h, d, t):\n",
    "    if (t-h > -1):\n",
    "        return d, t\n",
    "    else:\n",
    "        f = math.floor((h-1)/8)+1\n",
    "        return d-f, f*8+(t-h)"
   ]
  },
  {
   "cell_type": "code",
   "execution_count": 20,
   "id": "120bdf36-e4db-4301-8462-e42868d6394c",
   "metadata": {},
   "outputs": [],
   "source": [
    "#hist \n",
    "days = 365 # full 1-366, but we'll leave padding\n",
    "timepoints = [\"00:00\",\"03:00\",\"06:00\", \"09:00\",\"12:00\",\"15:00\",\"18:00\",\"21:00\"] # 3 hours periods along the day\n",
    "altitudes = [2, 80, 100] # 2 meters,80 meters, 100 meters"
   ]
  },
  {
   "cell_type": "code",
   "execution_count": 21,
   "id": "6eb75e6f-6f8f-488f-a508-0db1b80e2dad",
   "metadata": {},
   "outputs": [],
   "source": [
    "id = 1\n",
    "for d in range(2, days):\n",
    "    for t in range(len(timepoints)):\n",
    "        vectors = []\n",
    "        # time 0\n",
    "        vectors = vectors + df_to_vector(obs, d, t, timepoints)\n",
    "        # time-1 to time-5\n",
    "        for h in range(1,6): \n",
    "            d1, t1 = get_history_point(h, d, t)\n",
    "            vectors = vectors + df_to_vector(obs, d1, t1, timepoints)\n",
    "\n",
    "        # wind power time series, 48 steps forward\n",
    "        if (t > len(timepoints)-5):\n",
    "            t1 = t - 4\n",
    "            d1 = d + 1\n",
    "        else:\n",
    "            t1 = t + 4\n",
    "            d1 = d\n",
    "            \n",
    "        df = wp[\n",
    "                (wp[\"day\"].astype(str).str.zfill(3)+\":\"+wp[\"start time quarter hour\"].astype(str) >= str(d).zfill(3)+\":\"+timepoints[t]) & \n",
    "                (wp[\"day\"].astype(str).str.zfill(3)+\":\"+wp[\"start time quarter hour\"].astype(str) < str(d1).zfill(3)+\":\"+timepoints[t1])\n",
    "            ]\n",
    "        windpower = df[\"wind generation in MW\"].to_list()\n",
    "\n",
    "        item = {\n",
    "          \"id\" : id,\n",
    "          \"date\" : str(str(d).zfill(3)+\":\"+timepoints[t]),\n",
    "          \"vectors\" : vectors,\n",
    "          \"windpower\" : windpower,\n",
    "        }\n",
    "        coll.insert_one(item)\n",
    "        id = id + 1"
   ]
  },
  {
   "cell_type": "code",
   "execution_count": 22,
   "id": "adaa1964-d1f9-4b94-b1fe-d81581d3dcf6",
   "metadata": {},
   "outputs": [
    {
     "name": "stdout",
     "output_type": "stream",
     "text": [
      "{'_id': ObjectId('6856b9d15a04f5f1ddebb24d'), 'id': 1, 'date': '002:00:00', 'vectors': [-0.6844106463878328, 0.4296577946768061, 0.581749049429658, -1.0, -0.3498098859315588, -0.17870722433460062, -0.09505703422053235, 0.8669201520912548, 1.0, -0.5494296577946769, 0.33460076045627374, 0.4676806083650189, -0.42395437262357416, 0.4486692015209124, 0.581749049429658, -0.88212927756654, -0.44486692015209117, -0.36882129277566544, -0.9429657794676807, 0.29657794676806093, 0.4676806083650189, -0.5057034220532319, 0.2585551330798479, 0.3916349809885933, -0.7889733840304183, -0.12167300380228152, -0.026615969581749166, -0.6787072243346007, 0.33460076045627374, 0.48669201520912564, -0.11111111111111105, 0.19444444444444442, 0.22222222222222232, 0.38888888888888884, 0.8611111111111112, 0.9444444444444444, -0.7222222222222222, -0.9444444444444444, -1.0, 0.4722222222222221, 0.8333333333333333, 0.8611111111111112, -0.05555555555555558, 0.13888888888888884, 0.16666666666666674, 0.5, 0.7777777777777779, 0.7777777777777779, 0.19444444444444442, 0.9166666666666667, 1.0, 0.16666666666666674, 0.4166666666666665, 0.4444444444444444, 0.08333333333333326, 0.3055555555555556, 0.3055555555555556, -0.08333333333333337, 0.11111111111111116, 0.13888888888888884, -0.6, -0.5555555555555556, -0.6, -0.46666666666666656, -0.46666666666666656, -0.46666666666666656, 0.022222222222222365, 0.06666666666666665, 0.022222222222222365, -0.33333333333333337, -0.28888888888888886, -0.33333333333333337, 1.0, 0.9555555555555553, 0.8666666666666663, 0.11111111111111116, -0.15555555555555556, -0.19999999999999996, -0.9111111111111111, -0.8666666666666667, -0.9111111111111111, -0.8666666666666667, -0.7333333333333334, -0.7777777777777778, -1.0, -0.9111111111111111, -0.9111111111111111, -0.5111111111111111, -0.6444444444444445, -0.6888888888888889, 1e-16, 1e-16, 1e-16, 1e-16, 1e-16, 1e-16, 1e-16, 1e-16, 1e-16, 1e-16, 1e-16, 1e-16, 1e-16, 1e-16, 1e-16, 1e-16, 1e-16, 1e-16, 1e-16, 1e-16, 1e-16, 1e-16, 1e-16, 1e-16, 1e-16, 1e-16, 1e-16, 1e-16, 1e-16, 1e-16, -0.9891891891891892, 0.054054054054053946, 0.20720720720720753, -1.0, -0.363963963963964, -0.2072072072072071, 0.016216216216216273, 0.8774774774774776, 1.0, 0.018018018018018056, 0.8090090090090092, 0.945945945945946, -0.5405405405405405, 0.38378378378378386, 0.5135135135135136, -0.42342342342342343, 0.2810810810810813, 0.36936936936936937, -0.8396396396396396, 0.37297297297297316, 0.5495495495495495, 0.03603603603603611, 0.7063063063063064, 0.8018018018018018, -0.13513513513513498, 0.6144144144144146, 0.7297297297297298, -0.7531531531531532, 0.31171171171171186, 0.45945945945945943, 0.07575757575757591, 0.06060606060606055, 0.030303030303030276, 0.7454545454545456, 0.9696969696969697, 1.0, -0.5393939393939393, -0.9393939393939393, -1.0, 0.4181818181818182, 0.5454545454545454, 0.5454545454545454, 0.5151515151515151, 0.6060606060606064, 0.5757575757575759, 0.4939393939393939, 0.5454545454545454, 0.5454545454545454, 0.19393939393939408, 0.303030303030303, 0.303030303030303, -0.5212121212121212, -0.6363636363636362, -0.696969696969697, -0.003030303030302939, -0.09090909090909083, -0.15151515151515138, -0.12121212121212122, -0.3939393939393939, -0.4545454545454545, -0.7435897435897436, -0.28205128205128205, -0.33333333333333326, -0.33333333333333326, 0.025641025641025772, 0.0769230769230771, 0.025641025641025772, 0.0769230769230771, 0.025641025641025772, -0.1282051282051282, 0.025641025641025772, -0.02564102564102566, 0.7948717948717949, 1.0, 1.0, 0.5897435897435899, 0.6410256410256412, 0.5384615384615385, -1.0, -0.7948717948717948, -0.7948717948717948, 0.17948717948717952, 0.12820512820512842, 0.025641025641025772, -0.02564102564102566, 0.17948717948717952, 0.12820512820512842, -0.8461538461538461, -0.641025641025641, -0.6923076923076923, 1e-16, 1e-16, 1e-16, 1e-16, 1e-16, 1e-16, 1e-16, 1e-16, 1e-16, 1e-16, 1e-16, 1e-16, 1e-16, 1e-16, 1e-16, 1e-16, 1e-16, 1e-16, 1e-16, 1e-16, 1e-16, 1e-16, 1e-16, 1e-16, 1e-16, 1e-16, 1e-16, 1e-16, 1e-16, 1e-16, -0.9978046103183315, -0.14160263446761823, 0.012074643249176509, -1.0, -0.3830954994511526, -0.251372118551043, -0.24917672886937436, 0.846322722283205, 1.0, -0.2667398463227223, 0.6706915477497257, 0.8243688254665202, -0.8507135016465422, -0.009879253567508406, 0.14379802414928644, -0.060373216245883876, 0.7585071350164652, 0.8682766190998898, -0.973655323819978, 0.25356750823271135, 0.5389681668496156, -0.28430296377607034, 0.5828759604829856, 0.6926454445664105, -0.44676180021953904, 0.319429198682766, 0.45115257958287613, -0.6750823271130626, 0.5389681668496156, 0.7145993413830953, 0.3333333333333335, -0.04761904761904767, -0.17184265010351973, 0.523809523809524, 0.3664596273291927, 0.28364389233954457, -0.2091097308488612, -0.8757763975155278, -1.0, 0.6231884057971013, 0.4078674948240164, 0.3664596273291927, 0.2795031055900623, 0.035196687370600444, -0.006211180124223503, 0.660455486542443, 0.4078674948240164, 0.3250517598343685, 0.3623188405797102, 0.20082815734989645, 0.07660455486542439, 1.0, 0.9047619047619047, 0.8633540372670807, 0.08902691511387162, -0.13043478260869568, -0.17184265010351973, 0.07660455486542439, -0.5445134575569358, -0.7101449275362318, -0.9615384615384616, -0.5, -0.5384615384615384, -0.11538461538461531, 0.2692307692307696, 0.23076923076923106, -0.07692307692307687, 0.0769230769230771, 0.03846153846153877, -0.38461538461538447, -0.11538461538461531, -0.15384615384615363, 0.5384615384615388, 1.0, 1.0, 0.5000000000000002, 0.42307692307692335, 0.34615384615384626, -1.0, -0.7307692307692307, -0.7692307692307692, 0.03846153846153877, 0.1923076923076925, 0.15384615384615397, 0.15384615384615397, 0.5000000000000002, 0.5000000000000002, -0.8076923076923077, -0.6538461538461537, -0.6923076923076923, 1e-16, 1e-16, 1e-16, 1e-16, 1e-16, 1e-16, 1e-16, 1e-16, 1e-16, 1e-16, 1e-16, 1e-16, 1e-16, 1e-16, 1e-16, 1e-16, 1e-16, 1e-16, 1e-16, 1e-16, 1e-16, 1e-16, 1e-16, 1e-16, 1e-16, 1e-16, 1e-16, 1e-16, 1e-16, 1e-16, -0.8042381432896063, 0.029263370332996974, 0.12209889001009078, -0.715438950554995, -0.09586276488395573, -0.0413723511604438, -0.05549949545913213, 0.6750756811301717, 0.7679112008072657, -0.1584258324924317, 0.8546922300706359, 0.9434914228052469, -0.4288597376387485, 0.6427850655903129, 0.7376387487386478, -0.4873864783047427, 0.009081735620585452, 0.05751765893037364, -1.0, 0.5075681130171543, 0.6286579212916246, -0.08375378405650857, 0.8990918264379415, 1.0, 0.01917255297679099, 0.6730575176589302, 0.7638748738647834, -0.6952573158425831, 0.4490413723511606, 0.5560040363269425, 0.6443850267379678, 0.3181818181818181, 0.28342245989304815, 0.7593582887700536, 0.5855614973262033, 0.5775401069518715, 0.11229946524064172, -0.27807486631016054, -0.3315508021390374, 0.6657754010695187, 0.339572192513369, 0.31016042780748654, 0.22994652406417115, -0.2540106951871657, -0.3048128342245989, -0.24331550802139035, -0.5668449197860964, -0.5989304812834224, 1.0, 0.7272727272727273, 0.7112299465240641, 0.27005347593582885, -0.13101604278074863, -0.19786096256684482, -0.537433155080214, -0.9144385026737969, -1.0, 0.6871657754010696, 0.2326203208556148, 0.17647058823529416, -0.5272727272727273, -0.8909090909090909, -0.9636363636363637, -0.3090909090909091, -0.4545454545454546, -0.49090909090909085, 0.2727272727272727, -0.018181818181818077, -0.09090909090909094, -0.3090909090909091, -0.4181818181818182, -0.49090909090909085, 0.19999999999999996, 0.09090909090909083, 0.054545454545454675, 0.8545454545454547, 0.4181818181818182, 0.34545454545454546, -0.8909090909090909, -0.9272727272727272, -1.0, 0.6363636363636365, 0.4545454545454546, 0.4181818181818182, 1.0, 0.6000000000000001, 0.5272727272727273, -0.3090909090909091, -0.5272727272727273, -0.6000000000000001, 1.0, 1.0, 1.0, 0.8074074074074074, 0.8074074074074074, 0.8074074074074074, 0.3925925925925926, 0.3925925925925926, 0.3925925925925926, 0.8222222222222222, 0.8222222222222222, 0.8222222222222222, 0.15555555555555545, 0.15555555555555545, 0.15555555555555545, 0.7629629629629631, 0.7629629629629631, 0.7629629629629631, 0.36296296296296293, 0.36296296296296293, 0.36296296296296293, 0.27407407407407414, 0.27407407407407414, 0.27407407407407414, -1.0, -1.0, -1.0, 0.5407407407407407, 0.5407407407407407, 0.5407407407407407, -0.5683003128258601, 0.08237747653806049, 0.14494264859228378, -0.45359749739311783, 0.019812304483837417, 0.0615224191866528, 0.21376433785192916, 0.9374348279457771, 1.0, -0.1699687174139728, 0.45776850886339937, 0.5203336809176227, -0.3138686131386861, 0.31178310740354553, 0.3952033368091761, 0.03441084462982302, 0.5203336809176227, 0.562043795620438, -1.0, 0.1032325338894684, 0.18665276329509894, 0.24921793534932224, 0.8957247132429613, 0.9582898852971846, 0.26798748696558916, 0.8331595411887385, 0.8957247132429613, -0.6809176225234619, 0.1240875912408761, 0.18665276329509894, 0.40819423368740515, 0.06221547799696503, 0.0015174506828528056, 0.5963581183611533, 0.3960546282245827, 0.36570561456752637, 0.004552352048558417, -0.36267071320182087, -0.3930197268588772, 0.793626707132018, 0.5781487101669194, 0.5781487101669194, 1.0, 0.8209408194233685, 0.7905918057663126, -0.41122913505311076, -0.9393019726858877, -1.0, 0.7966616084977236, 0.4264036418816388, 0.4264036418816388, 0.27465857359635804, -0.08952959028831564, -0.15022761760242775, 0.14112291350531092, -0.24127465857359642, -0.2716236722306524, 0.8179059180576629, 0.48710166919575104, 0.45675265553869515, -0.423728813559322, -0.9322033898305084, -1.0, -0.4576271186440678, -0.6610169491525424, -0.728813559322034, 0.2542372881355932, -0.11864406779661019, -0.18644067796610175, -0.15254237288135597, -0.4576271186440678, -0.5254237288135594, 0.0847457627118644, -0.22033898305084754, -0.288135593220339, 1.0, 0.4576271186440677, 0.3898305084745761, -0.2542372881355932, -0.6271186440677966, -0.728813559322034, 0.6610169491525424, 0.2881355932203389, 0.22033898305084731, 0.7966101694915253, 0.3220338983050848, 0.2542372881355932, 0.15254237288135597, -0.35593220338983056, -0.423728813559322, 0.9230769230769231, 0.9230769230769231, 0.9230769230769231, 1.0, 1.0, 1.0, 0.5384615384615385, 0.5384615384615385, 0.5384615384615385, 0.9230769230769231, 0.9230769230769231, 0.9230769230769231, 1e-16, 1e-16, 1e-16, 0.7692307692307692, 0.7692307692307692, 0.7692307692307692, 0.5384615384615385, 0.5384615384615385, 0.5384615384615385, 0.5384615384615385, 0.5384615384615385, 0.5384615384615385, -1.0, -1.0, -1.0, 0.7692307692307692, 0.7692307692307692, 0.7692307692307692, -0.9381854436689929, -0.10269192422731799, -0.018943170488534333, -0.6889332003988037, 0.02691924227318032, 0.07876370887337969, 0.19641076769690935, 0.9202392821535397, 1.0, -0.032901296111665035, 0.8105682951146562, 0.8903290129611166, -0.5573280159521437, 0.3918245264207376, 0.46959122632103667, 0.14656031904287148, 0.7567298105682947, 0.818544366899302, -1.0, 0.2721834496510467, 0.38384845463609163, -0.18045862412761715, 0.49351944167497486, 0.5633100697906281, 0.0009970089730806375, 0.6669990029910267, 0.734795613160518, -0.6829511465603189, 0.39581256231306083, 0.5034895314057826, 0.7394136807817591, 0.07817589576547235, 0.013029315960911836, 1.0, 0.7394136807817591, 0.7100977198697069, 0.2638436482084692, -0.1140065146579805, -0.16938110749185664, 0.7654723127035832, 0.2931596091205211, 0.24104234527687285, 0.8599348534201956, 0.3648208469055374, 0.30293159609120535, -0.44299674267100975, -0.931596091205212, -1.0, 0.9250814332247559, 0.14657980456026043, 0.07166123778501632, 0.5993485342019544, 0.2508143322475571, 0.20195439739413668, 0.8566775244299674, 0.5407166123778504, 0.501628664495114, 0.781758957654723, 0.10097719869706845, 0.0228013029315961, -0.6140350877192982, -0.9298245614035088, -1.0, -0.4736842105263158, -0.543859649122807, -0.6140350877192982, 0.08771929824561386, -0.22807017543859665, -0.29824561403508776, -0.33333333333333326, -0.5789473684210527, -0.6140350877192982, 0.1929824561403508, 0.01754385964912264, -0.052631578947368585, 1.0, 0.6140350877192982, 0.5438596491228067, -0.6842105263157894, -0.8947368421052632, -0.9298245614035088, 0.43859649122807, 0.1929824561403508, 0.12280701754385959, 0.7894736842105261, 0.4035087719298245, 0.33333333333333326, -0.4385964912280702, -0.6491228070175439, -0.7192982456140351, -0.21875, -0.21875, -0.21875, -0.9166666666666666, -0.9166666666666666, -0.9166666666666666, -0.34375, -0.34375, -0.34375, 0.6770833333333333, 0.6770833333333333, 0.6770833333333333, 0.5833333333333333, 0.5833333333333333, 0.5833333333333333, 1.0, 1.0, 1.0, 0.47916666666666674, 0.47916666666666674, 0.47916666666666674, -0.42708333333333337, -0.42708333333333337, -0.42708333333333337, -0.25, -0.25, -0.25, -1.0, -1.0, -1.0], 'windpower': [163.18, 145.31, 147.89, 164.91, 152.32, 131.29, 141.36, 138.3, 137.56, 150.26, 163.91, 160.07, 154.32, 146.57, 141.62, 143.99, 132.5, 146.46, 141.3, 135.76, 136.61, 145.83, 128.75, 126.49, 128.86, 144.73, 142.04, 167.6, 164.87, 167.23, 169.71, 169.03, 173.77, 149.89, 173.14, 178.15, 173.77, 166.71, 178.52, 182.73, 186.79, 180.73, 185.9, 192.28, 179.26, 184.21, 193.8, 172.4]}\n"
     ]
    }
   ],
   "source": [
    "item_details = coll.find()\n",
    "for item in item_details:\n",
    "    print(item)\n",
    "    break"
   ]
  },
  {
   "cell_type": "code",
   "execution_count": 23,
   "id": "3d815d9a-3454-4629-8dea-d83a14003e0b",
   "metadata": {},
   "outputs": [],
   "source": [
    "search_index_model = SearchIndexModel(\n",
    "  definition={\n",
    "    \"fields\": [\n",
    "      {\n",
    "        \"type\": \"vector\",\n",
    "        \"numDimensions\": 720,\n",
    "        \"path\": \"vectors\",\n",
    "        \"similarity\": \"cosine\",\n",
    "        \"quantization\": \"scalar\"\n",
    "      }\n",
    "    ]\n",
    "  },\n",
    "  name=\"wind_power_vector_index\",\n",
    "  type=\"vectorSearch\"\n",
    ")"
   ]
  },
  {
   "cell_type": "code",
   "execution_count": 24,
   "id": "5bdb2630-1592-4033-a551-ce00608c8986",
   "metadata": {},
   "outputs": [
    {
     "name": "stdout",
     "output_type": "stream",
     "text": [
      "New search index named wind_power_vector_index is building.\n"
     ]
    }
   ],
   "source": [
    "index = coll.create_search_index(model=search_index_model)\n",
    "print(\"New search index named \" + index + \" is building.\")"
   ]
  },
  {
   "cell_type": "code",
   "execution_count": 25,
   "id": "6020cdf3-10c6-4814-a836-c08c10ce0dbb",
   "metadata": {},
   "outputs": [
    {
     "name": "stdout",
     "output_type": "stream",
     "text": [
      "Polling to check if the index is ready. This may take up to a minute.\n",
      "Polling to check if the index is ready. This may take up to a minute.\n",
      "Polling to check if the index is ready. This may take up to a minute.\n",
      "Polling to check if the index is ready. This may take up to a minute.\n",
      "Polling to check if the index is ready. This may take up to a minute.\n",
      "Polling to check if the index is ready. This may take up to a minute.\n",
      "wind_power_vector_index is ready for querying.\n"
     ]
    }
   ],
   "source": [
    "pred=None\n",
    "if pred is None:\n",
    "    pred = lambda index: index.get(\"queryable\") is True\n",
    "    \n",
    "while True:\n",
    "    indices = list(coll.list_search_indexes(index))\n",
    "    print(\"Polling to check if the index is ready. This may take up to a minute.\")\n",
    "\n",
    "    if len(indices) and pred(indices[0]):\n",
    "        break\n",
    "    time.sleep(5)\n",
    "print(index + \" is ready for querying.\")"
   ]
  },
  {
   "cell_type": "code",
   "execution_count": null,
   "id": "2a239232-2ba7-4080-adf5-f3caf75ab789",
   "metadata": {},
   "outputs": [],
   "source": []
  }
 ],
 "metadata": {
  "kernelspec": {
   "display_name": "Python (webetl)",
   "language": "python",
   "name": "webetl"
  },
  "language_info": {
   "codemirror_mode": {
    "name": "ipython",
    "version": 3
   },
   "file_extension": ".py",
   "mimetype": "text/x-python",
   "name": "python",
   "nbconvert_exporter": "python",
   "pygments_lexer": "ipython3",
   "version": "3.12.9"
  }
 },
 "nbformat": 4,
 "nbformat_minor": 5
}
